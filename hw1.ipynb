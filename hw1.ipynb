{
  "cells": [
    {
      "cell_type": "markdown",
      "metadata": {
        "id": "view-in-github",
        "colab_type": "text"
      },
      "source": [
        "<a href=\"https://colab.research.google.com/github/owrmille/exploring_weather_trends/blob/main/hw1.ipynb\" target=\"_parent\"><img src=\"https://colab.research.google.com/assets/colab-badge.svg\" alt=\"Open In Colab\"/></a>"
      ]
    },
    {
      "cell_type": "markdown",
      "metadata": {
        "id": "szhw-i96UVsq"
      },
      "source": [
        "# RL and Advanced DL: Домашнее задание 1\n",
        "\n",
        "Первое ДЗ связано с обучением с подкреплением, и оно придумано для ситуации, когда нейронные сети ещё не нужны, и пространство состояний в целом достаточно маленькое, чтобы можно было обучить хорошую стратегию методами TD-обучения или другими методами обучения с подкреплением. Задание получилось, надеюсь, интересное, но в том числе и достаточно техническое, так что для решения придётся немножко попрограммировать. Поэтому в качестве решения ожидается ссылка на jupyter-ноутбук на вашем github (или публичный, или с доступом для snikolenko); ссылку обязательно нужно прислать в виде сданного домашнего задания на портале Академии. Любые комментарии, новые идеи и рассуждения на тему, как всегда, категорически приветствуются."
      ]
    },
    {
      "cell_type": "markdown",
      "metadata": {
        "id": "3y3QduwzUVsv"
      },
      "source": [
        "## Часть первая, с блекджеком и стратегиями\n",
        "Мы будем обучаться играть в очень простую, но знаменитую и популярную игру: блекджек. \n",
        "\n",
        "Правила блекджека достаточно просты; давайте начнём с самой базовой версии, которая реализована в OpenAI Gym:\n",
        "численные значения карт равны от 2 до 10 для карт от двойки до десятки, 10 для валетов, дам и королей;\n",
        "туз считается за 11 очков, если общая сумма карт на руке при этом не превосходит 21 (по-английски в этом случае говорят, что на руке есть usable ace), и за 1 очко, если превосходит;\n",
        "игроку раздаются две карты, дилеру — одна в открытую и одна в закрытую;\n",
        "игрок может совершать одно из двух действий:\n",
        "hit  — взять ещё одну карту;\n",
        "stand — не брать больше карт;\n",
        "если сумма очков у игрока на руках больше 21, он проигрывает (bust);\n",
        "если игрок выбирает stand с суммой не больше 21, дилер добирает карты, пока сумма карт в его руке меньше 17;\n",
        "после этого игрок выигрывает, если дилер либо превышает 21, либо получает сумму очков меньше, чем сумма очков у игрока; при равенстве очков объявляется ничья (ставка возвращается);\n",
        "в исходных правилах есть ещё дополнительный бонус за natural blackjack: если игрок набирает 21 очко с раздачи, двумя картами, он выигрывает не +1, а +1.5 (полторы ставки)."
      ]
    },
    {
      "cell_type": "markdown",
      "metadata": {
        "id": "8E14JBX3UVsx"
      },
      "source": [
        "### Рассмотрим очень простую стратегию: говорить stand, если у нас на руках комбинация в 19, 20 или 21 очко, во всех остальных случаях говорить hit. Используйте методы Монте-Карло, чтобы оценить выигрыш от этой стратегии."
      ]
    },
    {
      "cell_type": "code",
      "execution_count": null,
      "metadata": {
        "id": "aw-k_tyyUVsz",
        "outputId": "c6cd21e5-4e01-4014-b95d-97e4a67fa910"
      },
      "outputs": [
        {
          "name": "stdout",
          "output_type": "stream",
          "text": [
            "Requirement already satisfied: gym in ./env/lib/python3.10/site-packages (0.26.2)\n",
            "Requirement already satisfied: tqdm in ./env/lib/python3.10/site-packages (4.64.1)\n",
            "Collecting matplotlib\n",
            "  Downloading matplotlib-3.6.1-cp310-cp310-manylinux_2_17_x86_64.manylinux2014_x86_64.whl (11.8 MB)\n",
            "\u001b[2K     \u001b[90m━━━━━━━━━━━━━━━━━━━━━━━━━━━━━━━━━━━━━━━━\u001b[0m \u001b[32m11.8/11.8 MB\u001b[0m \u001b[31m30.7 MB/s\u001b[0m eta \u001b[36m0:00:00\u001b[0m00:01\u001b[0m00:01\u001b[0m\n",
            "\u001b[?25hRequirement already satisfied: numpy>=1.18.0 in ./env/lib/python3.10/site-packages (from gym) (1.23.4)\n",
            "Requirement already satisfied: gym-notices>=0.0.4 in ./env/lib/python3.10/site-packages (from gym) (0.0.8)\n",
            "Requirement already satisfied: cloudpickle>=1.2.0 in ./env/lib/python3.10/site-packages (from gym) (2.2.0)\n",
            "Collecting pillow>=6.2.0\n",
            "  Downloading Pillow-9.2.0-cp310-cp310-manylinux_2_28_x86_64.whl (3.2 MB)\n",
            "\u001b[2K     \u001b[90m━━━━━━━━━━━━━━━━━━━━━━━━━━━━━━━━━━━━━━━━\u001b[0m \u001b[32m3.2/3.2 MB\u001b[0m \u001b[31m31.5 MB/s\u001b[0m eta \u001b[36m0:00:00\u001b[0ma \u001b[36m0:00:01\u001b[0m\n",
            "\u001b[?25hCollecting fonttools>=4.22.0\n",
            "  Downloading fonttools-4.38.0-py3-none-any.whl (965 kB)\n",
            "\u001b[2K     \u001b[90m━━━━━━━━━━━━━━━━━━━━━━━━━━━━━━━━━━━━━━\u001b[0m \u001b[32m965.4/965.4 kB\u001b[0m \u001b[31m30.0 MB/s\u001b[0m eta \u001b[36m0:00:00\u001b[0m\n",
            "\u001b[?25hRequirement already satisfied: packaging>=20.0 in ./env/lib/python3.10/site-packages (from matplotlib) (21.3)\n",
            "Requirement already satisfied: pyparsing>=2.2.1 in ./env/lib/python3.10/site-packages (from matplotlib) (3.0.9)\n",
            "Requirement already satisfied: python-dateutil>=2.7 in ./env/lib/python3.10/site-packages (from matplotlib) (2.8.2)\n",
            "Collecting cycler>=0.10\n",
            "  Using cached cycler-0.11.0-py3-none-any.whl (6.4 kB)\n",
            "Collecting kiwisolver>=1.0.1\n",
            "  Downloading kiwisolver-1.4.4-cp310-cp310-manylinux_2_12_x86_64.manylinux2010_x86_64.whl (1.6 MB)\n",
            "\u001b[2K     \u001b[90m━━━━━━━━━━━━━━━━━━━━━━━━━━━━━━━━━━━━━━━━\u001b[0m \u001b[32m1.6/1.6 MB\u001b[0m \u001b[31m30.8 MB/s\u001b[0m eta \u001b[36m0:00:00\u001b[0ma \u001b[36m0:00:01\u001b[0m\n",
            "\u001b[?25hCollecting contourpy>=1.0.1\n",
            "  Downloading contourpy-1.0.5-cp310-cp310-manylinux_2_17_x86_64.manylinux2014_x86_64.whl (295 kB)\n",
            "\u001b[2K     \u001b[90m━━━━━━━━━━━━━━━━━━━━━━━━━━━━━━━━━━━━━━\u001b[0m \u001b[32m295.9/295.9 kB\u001b[0m \u001b[31m27.4 MB/s\u001b[0m eta \u001b[36m0:00:00\u001b[0m\n",
            "\u001b[?25hRequirement already satisfied: six>=1.5 in ./env/lib/python3.10/site-packages (from python-dateutil>=2.7->matplotlib) (1.16.0)\n",
            "Installing collected packages: pillow, kiwisolver, fonttools, cycler, contourpy, matplotlib\n",
            "Successfully installed contourpy-1.0.5 cycler-0.11.0 fonttools-4.38.0 kiwisolver-1.4.4 matplotlib-3.6.1 pillow-9.2.0\n"
          ]
        }
      ],
      "source": [
        "!pip install gym tqdm matplotlib"
      ]
    },
    {
      "cell_type": "code",
      "execution_count": null,
      "metadata": {
        "id": "rNsht6jyUVs3"
      },
      "outputs": [],
      "source": [
        "from collections import defaultdict\n",
        "\n",
        "import gym\n",
        "import matplotlib.pyplot as plt\n",
        "import numpy as np\n",
        "from tqdm import tqdm\n"
      ]
    },
    {
      "cell_type": "code",
      "execution_count": null,
      "metadata": {
        "id": "NEQLlJ7SUVs3"
      },
      "outputs": [],
      "source": [
        "def simple_strategy(state):\n",
        "    return state[0] < 19\n",
        "\n",
        "\n",
        "def play_round(env):\n",
        "    state, _ = env.reset()\n",
        "    finished = False    \n",
        "    while not finished:\n",
        "        action = simple_strategy(state)\n",
        "        state, reward, finished, _, _ = env.step(action)\n",
        "    return reward\n",
        "\n",
        "\n",
        "def monte_carlo_estimation(n: int):\n",
        "    env = gym.make('Blackjack-v1', natural=False)\n",
        "    total_reward = 0\n",
        "    for _ in tqdm(range(n), total=n):\n",
        "        total_reward += play_round(env)\n",
        "    estimation = total_reward / n\n",
        "    return estimation"
      ]
    },
    {
      "cell_type": "code",
      "execution_count": null,
      "metadata": {
        "id": "jM0ei79lUVs4",
        "outputId": "c18e3871-24f1-4851-e8f7-06a4268a7d34"
      },
      "outputs": [
        {
          "name": "stderr",
          "output_type": "stream",
          "text": [
            "  6%|▌         | 62437/1000000 [00:04<01:00, 15374.00it/s]\n"
          ]
        },
        {
          "ename": "KeyboardInterrupt",
          "evalue": "",
          "output_type": "error",
          "traceback": [
            "\u001b[0;31m---------------------------------------------------------------------------\u001b[0m",
            "\u001b[0;31mKeyboardInterrupt\u001b[0m                         Traceback (most recent call last)",
            "\u001b[1;32m/home/hawk/made/made-dl-rl-2022/hw1.ipynb Cell 7'\u001b[0m in \u001b[0;36m<cell line: 2>\u001b[0;34m()\u001b[0m\n\u001b[1;32m      <a href='vscode-notebook-cell://wsl%2Bubuntu-20.04/home/hawk/made/made-dl-rl-2022/hw1.ipynb#W6sdnNjb2RlLXJlbW90ZQ%3D%3D?line=0'>1</a>\u001b[0m N \u001b[39m=\u001b[39m \u001b[39m10\u001b[39m \u001b[39m*\u001b[39m\u001b[39m*\u001b[39m \u001b[39m6\u001b[39m\n\u001b[0;32m----> <a href='vscode-notebook-cell://wsl%2Bubuntu-20.04/home/hawk/made/made-dl-rl-2022/hw1.ipynb#W6sdnNjb2RlLXJlbW90ZQ%3D%3D?line=1'>2</a>\u001b[0m \u001b[39mf\u001b[39m\u001b[39m'\u001b[39m\u001b[39mMonte Carlo Estimation: \u001b[39m\u001b[39m{\u001b[39;00mmonte_carlo_estimation(N)\u001b[39m}\u001b[39;00m\u001b[39m'\u001b[39m\n",
            "\u001b[1;32m/home/hawk/made/made-dl-rl-2022/hw1.ipynb Cell 6'\u001b[0m in \u001b[0;36mmonte_carlo_estimation\u001b[0;34m(n)\u001b[0m\n\u001b[1;32m     <a href='vscode-notebook-cell://wsl%2Bubuntu-20.04/home/hawk/made/made-dl-rl-2022/hw1.ipynb#W5sdnNjb2RlLXJlbW90ZQ%3D%3D?line=15'>16</a>\u001b[0m total_reward \u001b[39m=\u001b[39m \u001b[39m0\u001b[39m\n\u001b[1;32m     <a href='vscode-notebook-cell://wsl%2Bubuntu-20.04/home/hawk/made/made-dl-rl-2022/hw1.ipynb#W5sdnNjb2RlLXJlbW90ZQ%3D%3D?line=16'>17</a>\u001b[0m \u001b[39mfor\u001b[39;00m _ \u001b[39min\u001b[39;00m tqdm(\u001b[39mrange\u001b[39m(n), total\u001b[39m=\u001b[39mn):\n\u001b[0;32m---> <a href='vscode-notebook-cell://wsl%2Bubuntu-20.04/home/hawk/made/made-dl-rl-2022/hw1.ipynb#W5sdnNjb2RlLXJlbW90ZQ%3D%3D?line=17'>18</a>\u001b[0m     total_reward \u001b[39m+\u001b[39m\u001b[39m=\u001b[39m play_round(env)\n\u001b[1;32m     <a href='vscode-notebook-cell://wsl%2Bubuntu-20.04/home/hawk/made/made-dl-rl-2022/hw1.ipynb#W5sdnNjb2RlLXJlbW90ZQ%3D%3D?line=18'>19</a>\u001b[0m estimation \u001b[39m=\u001b[39m total_reward \u001b[39m/\u001b[39m n\n\u001b[1;32m     <a href='vscode-notebook-cell://wsl%2Bubuntu-20.04/home/hawk/made/made-dl-rl-2022/hw1.ipynb#W5sdnNjb2RlLXJlbW90ZQ%3D%3D?line=19'>20</a>\u001b[0m \u001b[39mreturn\u001b[39;00m estimation\n",
            "\u001b[1;32m/home/hawk/made/made-dl-rl-2022/hw1.ipynb Cell 6'\u001b[0m in \u001b[0;36mplay_round\u001b[0;34m(env)\u001b[0m\n\u001b[1;32m      <a href='vscode-notebook-cell://wsl%2Bubuntu-20.04/home/hawk/made/made-dl-rl-2022/hw1.ipynb#W5sdnNjb2RlLXJlbW90ZQ%3D%3D?line=4'>5</a>\u001b[0m \u001b[39mdef\u001b[39;00m \u001b[39mplay_round\u001b[39m(env):\n\u001b[0;32m----> <a href='vscode-notebook-cell://wsl%2Bubuntu-20.04/home/hawk/made/made-dl-rl-2022/hw1.ipynb#W5sdnNjb2RlLXJlbW90ZQ%3D%3D?line=5'>6</a>\u001b[0m     state, _ \u001b[39m=\u001b[39m env\u001b[39m.\u001b[39;49mreset()\n\u001b[1;32m      <a href='vscode-notebook-cell://wsl%2Bubuntu-20.04/home/hawk/made/made-dl-rl-2022/hw1.ipynb#W5sdnNjb2RlLXJlbW90ZQ%3D%3D?line=6'>7</a>\u001b[0m     finished \u001b[39m=\u001b[39m \u001b[39mFalse\u001b[39;00m    \n\u001b[1;32m      <a href='vscode-notebook-cell://wsl%2Bubuntu-20.04/home/hawk/made/made-dl-rl-2022/hw1.ipynb#W5sdnNjb2RlLXJlbW90ZQ%3D%3D?line=7'>8</a>\u001b[0m     \u001b[39mwhile\u001b[39;00m \u001b[39mnot\u001b[39;00m finished:\n",
            "File \u001b[0;32m~/made/made-dl-rl-2022/env/lib/python3.10/site-packages/gym/wrappers/order_enforcing.py:42\u001b[0m, in \u001b[0;36mOrderEnforcing.reset\u001b[0;34m(self, **kwargs)\u001b[0m\n\u001b[1;32m     <a href='file:///home/hawk/made/made-dl-rl-2022/env/lib/python3.10/site-packages/gym/wrappers/order_enforcing.py?line=39'>40</a>\u001b[0m \u001b[39m\"\"\"Resets the environment with `kwargs`.\"\"\"\u001b[39;00m\n\u001b[1;32m     <a href='file:///home/hawk/made/made-dl-rl-2022/env/lib/python3.10/site-packages/gym/wrappers/order_enforcing.py?line=40'>41</a>\u001b[0m \u001b[39mself\u001b[39m\u001b[39m.\u001b[39m_has_reset \u001b[39m=\u001b[39m \u001b[39mTrue\u001b[39;00m\n\u001b[0;32m---> <a href='file:///home/hawk/made/made-dl-rl-2022/env/lib/python3.10/site-packages/gym/wrappers/order_enforcing.py?line=41'>42</a>\u001b[0m \u001b[39mreturn\u001b[39;00m \u001b[39mself\u001b[39;49m\u001b[39m.\u001b[39;49menv\u001b[39m.\u001b[39;49mreset(\u001b[39m*\u001b[39;49m\u001b[39m*\u001b[39;49mkwargs)\n",
            "File \u001b[0;32m~/made/made-dl-rl-2022/env/lib/python3.10/site-packages/gym/wrappers/env_checker.py:47\u001b[0m, in \u001b[0;36mPassiveEnvChecker.reset\u001b[0;34m(self, **kwargs)\u001b[0m\n\u001b[1;32m     <a href='file:///home/hawk/made/made-dl-rl-2022/env/lib/python3.10/site-packages/gym/wrappers/env_checker.py?line=44'>45</a>\u001b[0m     \u001b[39mreturn\u001b[39;00m env_reset_passive_checker(\u001b[39mself\u001b[39m\u001b[39m.\u001b[39menv, \u001b[39m*\u001b[39m\u001b[39m*\u001b[39mkwargs)\n\u001b[1;32m     <a href='file:///home/hawk/made/made-dl-rl-2022/env/lib/python3.10/site-packages/gym/wrappers/env_checker.py?line=45'>46</a>\u001b[0m \u001b[39melse\u001b[39;00m:\n\u001b[0;32m---> <a href='file:///home/hawk/made/made-dl-rl-2022/env/lib/python3.10/site-packages/gym/wrappers/env_checker.py?line=46'>47</a>\u001b[0m     \u001b[39mreturn\u001b[39;00m \u001b[39mself\u001b[39;49m\u001b[39m.\u001b[39;49menv\u001b[39m.\u001b[39;49mreset(\u001b[39m*\u001b[39;49m\u001b[39m*\u001b[39;49mkwargs)\n",
            "File \u001b[0;32m~/made/made-dl-rl-2022/env/lib/python3.10/site-packages/gym/envs/toy_text/blackjack.py:179\u001b[0m, in \u001b[0;36mBlackjackEnv.reset\u001b[0;34m(self, seed, options)\u001b[0m\n\u001b[1;32m    <a href='file:///home/hawk/made/made-dl-rl-2022/env/lib/python3.10/site-packages/gym/envs/toy_text/blackjack.py?line=175'>176</a>\u001b[0m _, dealer_card_value, _ \u001b[39m=\u001b[39m \u001b[39mself\u001b[39m\u001b[39m.\u001b[39m_get_obs()\n\u001b[1;32m    <a href='file:///home/hawk/made/made-dl-rl-2022/env/lib/python3.10/site-packages/gym/envs/toy_text/blackjack.py?line=177'>178</a>\u001b[0m suits \u001b[39m=\u001b[39m [\u001b[39m\"\u001b[39m\u001b[39mC\u001b[39m\u001b[39m\"\u001b[39m, \u001b[39m\"\u001b[39m\u001b[39mD\u001b[39m\u001b[39m\"\u001b[39m, \u001b[39m\"\u001b[39m\u001b[39mH\u001b[39m\u001b[39m\"\u001b[39m, \u001b[39m\"\u001b[39m\u001b[39mS\u001b[39m\u001b[39m\"\u001b[39m]\n\u001b[0;32m--> <a href='file:///home/hawk/made/made-dl-rl-2022/env/lib/python3.10/site-packages/gym/envs/toy_text/blackjack.py?line=178'>179</a>\u001b[0m \u001b[39mself\u001b[39m\u001b[39m.\u001b[39mdealer_top_card_suit \u001b[39m=\u001b[39m \u001b[39mself\u001b[39;49m\u001b[39m.\u001b[39;49mnp_random\u001b[39m.\u001b[39;49mchoice(suits)\n\u001b[1;32m    <a href='file:///home/hawk/made/made-dl-rl-2022/env/lib/python3.10/site-packages/gym/envs/toy_text/blackjack.py?line=180'>181</a>\u001b[0m \u001b[39mif\u001b[39;00m dealer_card_value \u001b[39m==\u001b[39m \u001b[39m1\u001b[39m:\n\u001b[1;32m    <a href='file:///home/hawk/made/made-dl-rl-2022/env/lib/python3.10/site-packages/gym/envs/toy_text/blackjack.py?line=181'>182</a>\u001b[0m     \u001b[39mself\u001b[39m\u001b[39m.\u001b[39mdealer_top_card_value_str \u001b[39m=\u001b[39m \u001b[39m\"\u001b[39m\u001b[39mA\u001b[39m\u001b[39m\"\u001b[39m\n",
            "File \u001b[0;32m_generator.pyx:769\u001b[0m, in \u001b[0;36mnumpy.random._generator.Generator.choice\u001b[0;34m()\u001b[0m\n",
            "File \u001b[0;32m_generator.pyx:543\u001b[0m, in \u001b[0;36mnumpy.random._generator.Generator.integers\u001b[0;34m()\u001b[0m\n",
            "File \u001b[0;32m_bounded_integers.pyx:1228\u001b[0m, in \u001b[0;36mnumpy.random._bounded_integers._rand_int64\u001b[0;34m()\u001b[0m\n",
            "File \u001b[0;32m<__array_function__ internals>:180\u001b[0m, in \u001b[0;36mprod\u001b[0;34m(*args, **kwargs)\u001b[0m\n",
            "File \u001b[0;32m~/made/made-dl-rl-2022/env/lib/python3.10/site-packages/numpy/core/fromnumeric.py:3045\u001b[0m, in \u001b[0;36mprod\u001b[0;34m(a, axis, dtype, out, keepdims, initial, where)\u001b[0m\n\u001b[1;32m   <a href='file:///home/hawk/made/made-dl-rl-2022/env/lib/python3.10/site-packages/numpy/core/fromnumeric.py?line=2926'>2927</a>\u001b[0m \u001b[39m@array_function_dispatch\u001b[39m(_prod_dispatcher)\n\u001b[1;32m   <a href='file:///home/hawk/made/made-dl-rl-2022/env/lib/python3.10/site-packages/numpy/core/fromnumeric.py?line=2927'>2928</a>\u001b[0m \u001b[39mdef\u001b[39;00m \u001b[39mprod\u001b[39m(a, axis\u001b[39m=\u001b[39m\u001b[39mNone\u001b[39;00m, dtype\u001b[39m=\u001b[39m\u001b[39mNone\u001b[39;00m, out\u001b[39m=\u001b[39m\u001b[39mNone\u001b[39;00m, keepdims\u001b[39m=\u001b[39mnp\u001b[39m.\u001b[39m_NoValue,\n\u001b[1;32m   <a href='file:///home/hawk/made/made-dl-rl-2022/env/lib/python3.10/site-packages/numpy/core/fromnumeric.py?line=2928'>2929</a>\u001b[0m          initial\u001b[39m=\u001b[39mnp\u001b[39m.\u001b[39m_NoValue, where\u001b[39m=\u001b[39mnp\u001b[39m.\u001b[39m_NoValue):\n\u001b[1;32m   <a href='file:///home/hawk/made/made-dl-rl-2022/env/lib/python3.10/site-packages/numpy/core/fromnumeric.py?line=2929'>2930</a>\u001b[0m     \u001b[39m\"\"\"\u001b[39;00m\n\u001b[1;32m   <a href='file:///home/hawk/made/made-dl-rl-2022/env/lib/python3.10/site-packages/numpy/core/fromnumeric.py?line=2930'>2931</a>\u001b[0m \u001b[39m    Return the product of array elements over a given axis.\u001b[39;00m\n\u001b[1;32m   <a href='file:///home/hawk/made/made-dl-rl-2022/env/lib/python3.10/site-packages/numpy/core/fromnumeric.py?line=2931'>2932</a>\u001b[0m \n\u001b[0;32m   (...)\u001b[0m\n\u001b[1;32m   <a href='file:///home/hawk/made/made-dl-rl-2022/env/lib/python3.10/site-packages/numpy/core/fromnumeric.py?line=3042'>3043</a>\u001b[0m \u001b[39m    10\u001b[39;00m\n\u001b[1;32m   <a href='file:///home/hawk/made/made-dl-rl-2022/env/lib/python3.10/site-packages/numpy/core/fromnumeric.py?line=3043'>3044</a>\u001b[0m \u001b[39m    \"\"\"\u001b[39;00m\n\u001b[0;32m-> <a href='file:///home/hawk/made/made-dl-rl-2022/env/lib/python3.10/site-packages/numpy/core/fromnumeric.py?line=3044'>3045</a>\u001b[0m     \u001b[39mreturn\u001b[39;00m _wrapreduction(a, np\u001b[39m.\u001b[39;49mmultiply, \u001b[39m'\u001b[39;49m\u001b[39mprod\u001b[39;49m\u001b[39m'\u001b[39;49m, axis, dtype, out,\n\u001b[1;32m   <a href='file:///home/hawk/made/made-dl-rl-2022/env/lib/python3.10/site-packages/numpy/core/fromnumeric.py?line=3045'>3046</a>\u001b[0m                           keepdims\u001b[39m=\u001b[39;49mkeepdims, initial\u001b[39m=\u001b[39;49minitial, where\u001b[39m=\u001b[39;49mwhere)\n",
            "File \u001b[0;32m~/made/made-dl-rl-2022/env/lib/python3.10/site-packages/numpy/core/fromnumeric.py:86\u001b[0m, in \u001b[0;36m_wrapreduction\u001b[0;34m(obj, ufunc, method, axis, dtype, out, **kwargs)\u001b[0m\n\u001b[1;32m     <a href='file:///home/hawk/made/made-dl-rl-2022/env/lib/python3.10/site-packages/numpy/core/fromnumeric.py?line=82'>83</a>\u001b[0m         \u001b[39melse\u001b[39;00m:\n\u001b[1;32m     <a href='file:///home/hawk/made/made-dl-rl-2022/env/lib/python3.10/site-packages/numpy/core/fromnumeric.py?line=83'>84</a>\u001b[0m             \u001b[39mreturn\u001b[39;00m reduction(axis\u001b[39m=\u001b[39maxis, out\u001b[39m=\u001b[39mout, \u001b[39m*\u001b[39m\u001b[39m*\u001b[39mpasskwargs)\n\u001b[0;32m---> <a href='file:///home/hawk/made/made-dl-rl-2022/env/lib/python3.10/site-packages/numpy/core/fromnumeric.py?line=85'>86</a>\u001b[0m \u001b[39mreturn\u001b[39;00m ufunc\u001b[39m.\u001b[39;49mreduce(obj, axis, dtype, out, \u001b[39m*\u001b[39;49m\u001b[39m*\u001b[39;49mpasskwargs)\n",
            "\u001b[0;31mKeyboardInterrupt\u001b[0m: "
          ]
        }
      ],
      "source": [
        "N = 10 ** 6\n",
        "f'Monte Carlo Estimation: {monte_carlo_estimation(N)}'"
      ]
    },
    {
      "cell_type": "markdown",
      "metadata": {
        "id": "GSGDDJS1UVs5"
      },
      "source": [
        "### Реализуйте метод обучения с подкреплением без модели (можно Q-обучение, но рекомендую попробовать и другие, например Monte Carlo control) для обучения стратегии в блекджеке, используя окружение BlackjackEnv из OpenAI Gym."
      ]
    },
    {
      "cell_type": "code",
      "execution_count": null,
      "metadata": {
        "id": "geDKT-heUVs5"
      },
      "outputs": [],
      "source": [
        "def compute_policy_by_Q(Q):\n",
        "    pi = defaultdict(lambda: np.random.randint(env.action_space.n))\n",
        "    for state, actions in Q.items():\n",
        "        pi[state] = np.argmax(actions)\n",
        "    return pi\n",
        "\n",
        "def get_action(env, pi, state, eps):\n",
        "    return pi[state] if np.random.rand() > eps else np.random.randint(env.action_space.n)\n",
        "\n",
        "def run_episode(env, pi, eps):\n",
        "    state, _ = env.reset()\n",
        "    action = get_action(env, pi, state, eps)\n",
        "    states, rewards, actions = [state], [0], [action]\n",
        "    finished = False    \n",
        "    while not finished:\n",
        "        state, reward, finished, _, _ = env.step(action)\n",
        "        states.append(state)\n",
        "        rewards.append(reward)\n",
        "        action = get_action(env, pi, state, eps)\n",
        "        actions.append(action)\n",
        "    return states, actions, rewards\n",
        "\n",
        "def update_returns_actions(R, Q, states, actions, rewards, gamma):\n",
        "    g = 0\n",
        "    for t in range(len(states) - 2, -1, -1):\n",
        "        g =  g * gamma + rewards[t + 1]\n",
        "        R[states[t], actions[t]].append(g)\n",
        "        Q[states[t]][actions[t]] = np.mean(R[states[t], actions[t]])\n",
        "\n",
        "def monte_carlo_control(env, n: int, eps: float = 0.0, gamma: float = 1.0, block_size: int = 100_000):\n",
        "    Q = defaultdict(lambda: np.random.rand(env.action_space.n))  # key: (player's sum, dealer's card, ace)\n",
        "    R = defaultdict(list)  # key: ((player's sum, dealer's card, ace), action)\n",
        "    mean_rewards = []\n",
        "    cur_rewards = [-1] * block_size\n",
        "    pi = compute_policy_by_Q(Q)\n",
        "    for i in tqdm(range(n + 1), total=n):\n",
        "        if i and i % block_size == 0:\n",
        "            mean_rewards.append(np.mean(cur_rewards))\n",
        "            cur_rewards = [-1] * block_size\n",
        "        states, actions, rewards = run_episode(env, pi, eps)\n",
        "        update_returns_actions(R, Q, states, actions, rewards, gamma=gamma)\n",
        "        pi = compute_policy_by_Q(Q)\n",
        "        cur_rewards[i % block_size] = rewards[-1]\n",
        "    return mean_rewards, pi"
      ]
    },
    {
      "cell_type": "code",
      "execution_count": null,
      "metadata": {
        "id": "SeFHAoM_UVs7",
        "outputId": "cda51792-bf6b-4bbd-fa48-1c43de9577a2"
      },
      "outputs": [
        {
          "name": "stderr",
          "output_type": "stream",
          "text": [
            "100%|██████████| 1000000/1000000 [30:17<00:00, 550.36it/s]\n"
          ]
        }
      ],
      "source": [
        "EPS = 0.1\n",
        "GAMMA = 0.9\n",
        "N = 10 ** 6\n",
        "\n",
        "env = gym.make('Blackjack-v1', natural=False, render_mode=\"rgb_array\")\n",
        "mean_rewards, pi = monte_carlo_control(env, N, EPS, GAMMA)"
      ]
    },
    {
      "cell_type": "markdown",
      "metadata": {
        "id": "m5C-aVG6UVs7"
      },
      "source": [
        "### Сколько выигрывает казино у вашей стратегии? Нарисуйте графики среднего дохода вашего метода (усреднённого по крайней мере по 100000 раздач, а лучше больше) по ходу обучения. Попробуйте подобрать оптимальные гиперпараметры."
      ]
    },
    {
      "cell_type": "code",
      "execution_count": null,
      "metadata": {
        "id": "GXRtAFZFUVs8",
        "outputId": "f38bf307-e8a7-4425-81b9-6f45335eda59"
      },
      "outputs": [
        {
          "data": {
            "image/png": "[encoded data removed]",
            "text/plain": [
              "<Figure size 640x480 with 1 Axes>"
            ]
          },
          "metadata": {},
          "output_type": "display_data"
        }
      ],
      "source": [
        "def plot_rewards(mean_rewards):\n",
        "    plt.plot(np.arange(len(mean_rewards)), mean_rewards)\n",
        "    plt.yticks(np.arange(np.min(mean_rewards), np.max(mean_rewards), 0.05)),\n",
        "    plt.xlabel(\"Эпизоды\")\n",
        "    plt.ylabel(\"Текущая оценка\")\n",
        "plot_rewards(mean_rewards)"
      ]
    },
    {
      "cell_type": "markdown",
      "metadata": {
        "id": "DxBClNsnUVs9"
      },
      "source": [
        "## Часть вторая, удвоенная\n",
        "В базовый блекджек, описанный в предыдущем разделе, обыграть казино вряд ли получится. Но, к счастью, на этом история не заканчивается. Описанные выше правила были упрощёнными, а на самом деле у игрока есть ещё и другие возможности. Реализовывать split может оказаться непросто, поэтому давайте ограничимся удвоением ставки. Итак, у игрока появляется дополнительное действие:\n",
        "double — удвоить ставку; при этом больше действий делать нельзя, игроку выдаётся ровно одна дополнительная карта, а выигрыш или проигрыш удваивается."
      ]
    },
    {
      "cell_type": "markdown",
      "metadata": {
        "id": "6UWy2P7xUVs9"
      },
      "source": [
        "### Реализуйте новый вариант блекджека на основе окружения BlackjackEnv из OpenAI Gym, в котором разрешено удвоение ставки."
      ]
    },
    {
      "cell_type": "code",
      "execution_count": null,
      "metadata": {
        "id": "MoVF_5V_UVs-"
      },
      "outputs": [],
      "source": [
        "from typing import Optional\n",
        "from gym import spaces\n",
        "from gym.envs.toy_text.blackjack import (\n",
        "    BlackjackEnv, cmp, draw_card, is_bust, score, sum_hand\n",
        ")\n",
        "\n",
        "\n",
        "class BlackjackWithDoubleEnv(BlackjackEnv):\n",
        "    def __init__(self, render_mode: Optional[str] = None):\n",
        "        super().__init__(render_mode, False, False)\n",
        "        self.action_space = spaces.Discrete(3)\n",
        "\n",
        "    def step(self, action):\n",
        "        assert self.action_space.contains(action)\n",
        "        if action:  # hit: add a card to players hand and return\n",
        "            self.player.append(draw_card(self.np_random))\n",
        "        if action == 1:\n",
        "            if is_bust(self.player):\n",
        "                terminated = True\n",
        "                reward = -1.0\n",
        "            else:\n",
        "                terminated = False\n",
        "                reward = 0.0\n",
        "        else:  # stick: play out the dealers hand, and score\n",
        "            terminated = True\n",
        "            while sum_hand(self.dealer) < 17:\n",
        "                self.dealer.append(draw_card(self.np_random))\n",
        "            reward = cmp(score(self.player), score(self.dealer))\n",
        "            if action == 2:\n",
        "                reward *= 2\n",
        "        return self._get_obs(), reward, terminated, False, {}\n",
        "\n"
      ]
    },
    {
      "cell_type": "code",
      "execution_count": null,
      "metadata": {
        "id": "Dxej7r47UVs-",
        "outputId": "58d844de-4c76-41b9-cd85-8f3ee3f25552"
      },
      "outputs": [
        {
          "name": "stderr",
          "output_type": "stream",
          "text": [
            "100%|██████████| 1000000/1000000 [29:10<00:00, 571.33it/s]\n"
          ]
        }
      ],
      "source": [
        "double_env = BlackjackWithDoubleEnv()\n",
        "double_mean_rewards, double_pi = monte_carlo_control(double_env, N, EPS, GAMMA)"
      ]
    },
    {
      "cell_type": "code",
      "execution_count": null,
      "metadata": {
        "id": "iqf4asDvUVs_",
        "outputId": "e5163f8c-ade6-44cc-ff72-5ac0df717936"
      },
      "outputs": [
        {
          "data": {
            "image/png": "[encoded data removed]",
            "text/plain": [
              "<Figure size 640x480 with 1 Axes>"
            ]
          },
          "metadata": {},
          "output_type": "display_data"
        }
      ],
      "source": [
        "plot_rewards(double_mean_rewards)"
      ]
    },
    {
      "cell_type": "code",
      "execution_count": null,
      "metadata": {
        "id": "xkYWnAHkUVs_"
      },
      "outputs": [],
      "source": []
    }
  ],
  "metadata": {
    "interpreter": {
      "hash": "4f58c5067524847e844fd02dfdad392dee8e89239cd5ab9689ddb96e6219ec9a"
    },
    "kernelspec": {
      "display_name": "Python 3.10.6 (conda)",
      "language": "python",
      "name": "python3"
    },
    "language_info": {
      "codemirror_mode": {
        "name": "ipython",
        "version": 3
      },
      "file_extension": ".py",
      "mimetype": "text/x-python",
      "name": "python",
      "nbconvert_exporter": "python",
      "pygments_lexer": "ipython3",
      "version": "3.10.6"
    },
    "orig_nbformat": 4,
    "colab": {
      "provenance": [],
      "include_colab_link": true
    }
  },
  "nbformat": 4,
  "nbformat_minor": 0
}